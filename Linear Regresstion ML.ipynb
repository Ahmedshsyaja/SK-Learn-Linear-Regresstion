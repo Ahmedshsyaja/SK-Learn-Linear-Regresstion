from sklearn.linear_model import LinearRegression
from sklearn.metrics import mean_squared_error
import numpy as np
import pandas as pd

# Reading Data
data = pd.read_csv('/content/1000_Companies.csv')
X = data['Marketing Spend'].values.reshape(-1, 1)  # Reshape X to 2D array
Y = data['Profit'].values

reg = LinearRegression()
reg.fit(X, Y)
y_pred = reg.predict(X)
r2_score = reg.score(X, Y)
#print('R-squared score:', r2_score)
#print('Predicted values:', y_pred)


plt.plot(X,y_pred,color='#58b970',label='Regresstion line')
plt.scatter(X,Y,c='#ef5423',label='Scatter plot')
